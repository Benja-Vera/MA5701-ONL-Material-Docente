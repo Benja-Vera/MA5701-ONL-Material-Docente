{
 "cells": [
  {
   "cell_type": "markdown",
   "id": "6d19a9c0",
   "metadata": {},
   "source": [
    "# Control 1: Parte numérica\n",
    "\n",
    "**Fecha de entrega: Viernes 16/05 17:00 hrs**\n",
    "\n",
    "*Nombre:*\n",
    "\n",
    "*Colaboré con:*\n",
    "- Persona 1\n",
    "- Persona 2\n",
    "\n",
    "## Contexto\n",
    "\n",
    "Un voladizo es un elemento estructural rígido que sobresale horizontalmente de una estructura. En esta pregunta, vamos a plantear un algoritmo con garantías de convergencia para estimar el diseño óptimo de una viga voladiza a fin de minimizar tanto su masa como la deformación que esta experimenta en su extremo sobresaliente. Supongamos que la viga, con densidad lineal uniforme $\\rho$, es discretizada en $n$ trozos de igual longitud $l$. Si $x_i \\geq 0$ representa el área transversal (a escoger) de la sección de viga, entonces la masa total se calcula como\n",
    "$$M(x) = \\sum_{i=1}^n \\rho l x_i$$\n",
    "Además, un modelo simple de la deformación estructural de la viga en el extremo suelto es el siguiente\n",
    "$$D(x) = \\sum_{i=1}^n \\frac{w_i}{x_i^2}$$\n",
    "En que $w_i$ representa la *carga distribuída* en la sección $i$-ésima, hecha para modelar la diferencia en *soporte* que poseen las diferentes secciones. En esta pregunta tomaremos un modelo lineal decreciente $w_i = \\left(1 - \\frac{i}{n+1}\\right)^4$; es decir, las secciones ubicadas más al extremo deben soportar más carga por si solas. Siendo $\\lambda > 0$ un parámetro de ponderación, la función objetivo a minimizar es entonces:\n",
    "$$f(x) = \\sum_{i=1}^n \\left(\\rho l x_i + \\lambda \\frac{w_i}{x_i^2}\\right)$$"
   ]
  },
  {
   "cell_type": "markdown",
   "id": "24213639",
   "metadata": {},
   "source": [
    "### a)\n",
    "Sea $\\epsilon > 0$. Utilizando las herramientas vistas en el curso, plantee un método de descenso que usted utilizaría para aproximar la solución de este problema sabiendo que se desea tener certeza de obtener, luego de un número $k$ de iteraciones (a determinar por usted), una configuración $x^k$ tal que $\\left | x^k - x^* \\right | < \\epsilon$."
   ]
  },
  {
   "cell_type": "markdown",
   "id": "ce3c3845",
   "metadata": {},
   "source": [
    "*Detalle aquí el algoritmo que usted propone de manera precisa, indicando además obtención de valores relevantes, cotas, etc...*"
   ]
  },
  {
   "cell_type": "markdown",
   "id": "a205d027",
   "metadata": {},
   "source": [
    "### b)\n",
    "Implemente el método de descenso propuesto en la pregunta anterior y entregue su simulación para $n = 10, \\rho = 2, l = 0.5, \\lambda = 5$. Entregue un gráfico que muestre las áreas $x_i$ obtenidas."
   ]
  },
  {
   "cell_type": "code",
   "execution_count": null,
   "id": "9e389040",
   "metadata": {},
   "outputs": [],
   "source": [
    "# Código aquí"
   ]
  }
 ],
 "metadata": {
  "kernelspec": {
   "display_name": "Python 3",
   "language": "python",
   "name": "python3"
  },
  "language_info": {
   "name": "python",
   "version": "3.12.10"
  }
 },
 "nbformat": 4,
 "nbformat_minor": 5
}
